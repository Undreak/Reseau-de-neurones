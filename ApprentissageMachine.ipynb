{
 "cells": [
  {
   "cell_type": "code",
   "execution_count": 123,
   "metadata": {},
   "outputs": [],
   "source": [
    "import numpy as np\n",
    "import matplotlib.pyplot as plt\n",
    "from PIL import Image, ImageFilter, ImageFont, ImageDraw\n",
    "\n",
    "# CONSTANTES\n",
    "n = 32 # Taille de l'image\n",
    "N = 4 # Nombre d'image\n",
    "\n",
    "# Fonction qui importe une image, la redimenssionne et la binarize\n",
    "def impIm(lettre,num):\n",
    "    im = np.array(Image.open(\"sources/%s%d.png\" % (lettre,num)).resize((n,n)))\n",
    "    th = 128\n",
    "    im_bool = (im < th) \n",
    "\n",
    "    # Passage de matrice RGB a matrice 2D\n",
    "    matx = np.zeros((n,n))\n",
    "    for i in range(n):\n",
    "        for j in range(n):\n",
    "            if im_bool[i,j,0]:\n",
    "                matx[i,j] = 1\n",
    "            else:\n",
    "                matx[i,j] = 0\n",
    "    return matx\n",
    "\n",
    "# Fonction d'apprentissage machine, elle fait ressortir les zone les plus occupe d'une matrice\n",
    "def learn(mat):\n",
    "    for i in range(n):\n",
    "        for j in range(n):\n",
    "            if mat[i,j] == 1:\n",
    "                mat[i,j] += 1\n",
    "            else:\n",
    "                mat[i,j] += -1\n",
    "    return mat"
   ]
  },
  {
   "cell_type": "code",
   "execution_count": 124,
   "metadata": {},
   "outputs": [
    {
     "name": "stdout",
     "output_type": "stream",
     "text": [
      "[[-4. -4. -4. ... -4. -4. -4.]\n",
      " [-4. -4. -4. ... -4. -4. -4.]\n",
      " [-4. -4. -4. ... -4. -4. -4.]\n",
      " ...\n",
      " [-1.  8.  8. ...  2. -1. -4.]\n",
      " [ 2.  8.  8. ...  5. -1. -1.]\n",
      " [ 5.  5.  2. ...  5. -1. -1.]]\n"
     ]
    },
    {
     "data": {
      "image/png": "[encoded data removed]",
      "text/plain": [
       "<Figure size 288x288 with 1 Axes>"
      ]
     },
     "metadata": {
      "needs_background": "light"
     },
     "output_type": "display_data"
    }
   ],
   "source": [
    "W = np.zeros((32,32))\n",
    "for i in range(4):\n",
    "    W += learn(impIm('A',i))\n",
    "    \n",
    "plt.matshow(W)\n",
    "print(W)"
   ]
  },
  {
   "cell_type": "code",
   "execution_count": 113,
   "metadata": {},
   "outputs": [
    {
     "name": "stdout",
     "output_type": "stream",
     "text": [
      "A1\n"
     ]
    }
   ],
   "source": [
    "#TEST\n",
    "\n",
    "lettre = 'A'\n",
    "num = 1\n",
    "print('%s%d' % (lettre,num))"
   ]
  },
  {
   "cell_type": "code",
   "execution_count": null,
   "metadata": {},
   "outputs": [],
   "source": []
  }
 ],
 "metadata": {
  "kernelspec": {
   "display_name": "Python 3",
   "language": "python",
   "name": "python3"
  },
  "language_info": {
   "codemirror_mode": {
    "name": "ipython",
    "version": 3
   },
   "file_extension": ".py",
   "mimetype": "text/x-python",
   "name": "python",
   "nbconvert_exporter": "python",
   "pygments_lexer": "ipython3",
   "version": "3.8.5"
  }
 },
 "nbformat": 4,
 "nbformat_minor": 4
}
