{
 "cells": [
  {
   "cell_type": "code",
   "execution_count": 185,
   "metadata": {},
   "outputs": [
    {
     "data": {
      "image/png": "[encoded data removed]",
      "text/plain": [
       "<Figure size 432x288 with 1 Axes>"
      ]
     },
     "metadata": {
      "needs_background": "light"
     },
     "output_type": "display_data"
    },
    {
     "name": "stdout",
     "output_type": "stream",
     "text": [
      "J\n",
      "Temps d'execution du programme: 0.22271347045898438 s\n"
     ]
    }
   ],
   "source": [
    "import gzip\n",
    "import numpy as np\n",
    "import matplotlib.pyplot as plt\n",
    "import time\n",
    "\n",
    "'''\n",
    "Sources pour importer les donnees:\n",
    "https://stackoverflow.com/questions/40427435/extract-images-from-idx3-ubyte-file-or-gzip-via-python\n",
    "'''\n",
    "start = time.time()\n",
    "\n",
    "image_size = 28\n",
    "num_images = 10000\n",
    "N = 10\n",
    "\n",
    "f = gzip.open('samples/emnist-letters-train-images-idx3-ubyte.gz', 'r') # importation de la base de donnees d'images de lettres\n",
    "f.read(16)\n",
    "buf = f.read( image_size * image_size * num_images) # buffer\n",
    "data = np.frombuffer(buf, dtype = np.uint8).astype(np.float32) # Interpret a buffer as a 1-dimensional array.\n",
    "data = data.reshape(num_images, image_size, image_size, 1) # reshape a la bonne taille\n",
    "\n",
    "image = np.asarray(data[N]).squeeze() # L'image n'est pas dans le bon sens\n",
    "image = np.fliplr(image) # Donc on la flip \n",
    "image = np.rot90(image) # Et on la tourne de 90 degres\n",
    "plt.imshow(image) # Pour que l'image soit dans le bon sens\n",
    "plt.show()\n",
    "\n",
    "alphabet = np.array(['A','B','C','D','E','F','G','H','I','J','K','L','M','N','O','P','Q','R','S','T','U','V','W','X','Y','Z'])\n",
    "\n",
    "f = gzip.open('samples/emnist-letters-train-labels-idx1-ubyte.gz','r') # importation de la base de donnees de labels de lettres\n",
    "# Le code ci dessous va lire la base de donnee et renvoyer la lettre afficher a l'ecran\n",
    "f.read(8)\n",
    "for i in range(0,N+1):   \n",
    "    buf = f.read(1)\n",
    "    labels = np.frombuffer(buf, dtype=np.uint8).astype(np.int64)\n",
    "print(alphabet[labels[0] - 1])\n",
    "\n",
    "end = time.time()\n",
    "print(f\"Temps d'execution du programme: {end - start} s\") # Approximativement 46 minutes pour lire toutes les donnees avec num_image = 10 000"
   ]
  },
  {
   "cell_type": "code",
   "execution_count": null,
   "metadata": {},
   "outputs": [],
   "source": []
  }
 ],
 "metadata": {
  "kernelspec": {
   "display_name": "Python 3",
   "language": "python",
   "name": "python3"
  },
  "language_info": {
   "codemirror_mode": {
    "name": "ipython",
    "version": 3
   },
   "file_extension": ".py",
   "mimetype": "text/x-python",
   "name": "python",
   "nbconvert_exporter": "python",
   "pygments_lexer": "ipython3",
   "version": "3.8.5"
  }
 },
 "nbformat": 4,
 "nbformat_minor": 4
}
