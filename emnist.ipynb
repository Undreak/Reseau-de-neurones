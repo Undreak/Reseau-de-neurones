{
 "cells": [
  {
   "cell_type": "code",
   "execution_count": 138,
   "metadata": {},
   "outputs": [
    {
     "data": {
      "image/png": "[encoded data removed]",
      "text/plain": [
       "<Figure size 432x288 with 1 Axes>"
      ]
     },
     "metadata": {
      "needs_background": "light"
     },
     "output_type": "display_data"
    },
    {
     "name": "stdout",
     "output_type": "stream",
     "text": [
      "E\n"
     ]
    }
   ],
   "source": [
    "import gzip\n",
    "import numpy as np\n",
    "import matplotlib.pyplot as plt\n",
    "\n",
    "'''\n",
    "Sources:\n",
    "https://github.com/Coopss/EMNIST/blob/master/training.py\n",
    "https://stackoverflow.com/questions/40427435/extract-images-from-idx3-ubyte-file-or-gzip-via-python\n",
    "'''\n",
    "image_size = 28\n",
    "num_images = 20\n",
    "N = 19\n",
    "\n",
    "f = gzip.open('samples/emnist-letters-train-images-idx3-ubyte.gz', 'r') # importation de la base de donnees d'images de lettres\n",
    "f.read(16)\n",
    "buf = f.read( image_size * image_size * num_images) # buffer\n",
    "data = np.frombuffer(buf, dtype = np.uint8).astype(np.float32) # Interpret a buffer as a 1-dimensional array.\n",
    "data = data.reshape(num_images, image_size, image_size, 1) # reshape a la bonne taille\n",
    "\n",
    "#def rotate(img):\n",
    " #   # Used to rotate images (for some reason they are transposed on read-in)\n",
    "  #  flipped = np.fliplr(img)\n",
    "   # return np.rot90(flipped)\n",
    "\n",
    "image = np.asarray(data[N]).squeeze()\n",
    "image = np.fliplr(image)\n",
    "image = np.rot90(image)\n",
    "plt.imshow(image)\n",
    "plt.show()\n",
    "\n",
    "alphabet = np.array(['A','B','C','D','E','F','G','H','I','J','K','L','M','N','O','P','Q','R','S','T','U','V','W','X','Y','Z'])\n",
    "\n",
    "f = gzip.open('samples/emnist-letters-train-labels-idx1-ubyte.gz','r') # importation de la base de donnees de labels de lettres\n",
    "# Le code ci dessous va lire la base de donnee et renvoyer la lettre afficher a l'ecran\n",
    "f.read(8)\n",
    "for i in range(0,N+1):   \n",
    "    buf = f.read(1)\n",
    "    labels = np.frombuffer(buf, dtype=np.uint8).astype(np.int64)\n",
    "print(alphabet[labels[0] - 1])"
   ]
  },
  {
   "cell_type": "code",
   "execution_count": null,
   "metadata": {},
   "outputs": [],
   "source": []
  }
 ],
 "metadata": {
  "kernelspec": {
   "display_name": "Python 3",
   "language": "python",
   "name": "python3"
  },
  "language_info": {
   "codemirror_mode": {
    "name": "ipython",
    "version": 3
   },
   "file_extension": ".py",
   "mimetype": "text/x-python",
   "name": "python",
   "nbconvert_exporter": "python",
   "pygments_lexer": "ipython3",
   "version": "3.8.5"
  }
 },
 "nbformat": 4,
 "nbformat_minor": 4
}
