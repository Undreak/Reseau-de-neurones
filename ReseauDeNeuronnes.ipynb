{
 "cells": [
  {
   "cell_type": "code",
   "execution_count": 3,
   "metadata": {},
   "outputs": [
    {
     "name": "stdout",
     "output_type": "stream",
     "text": [
      "Temps d'execution du programme: 115.38338422775269 s\n"
     ]
    }
   ],
   "source": [
    "import numpy as np\n",
    "import matplotlib.pyplot as plt\n",
    "from emnist import extract_training_samples\n",
    "from emnist import extract_test_samples\n",
    "import time\n",
    "\n",
    "start = time.time()\n",
    "\n",
    "im_size = 28\n",
    "num_images = 100000\n",
    "k = 26\n",
    "\n",
    "images_training, labels_training = extract_training_samples('letters')\n",
    "images_test, labels_test = extract_test_samples('letters')\n",
    "\n",
    "def learn(mat):\n",
    "    for i in range(im_size):\n",
    "        for j in range(im_size):\n",
    "            if mat[i,j] == 1:\n",
    "                mat[i,j] += 1\n",
    "            else:\n",
    "                mat[i,j] += -1\n",
    "    return mat\n",
    "\n",
    "def readim(im):\n",
    "    th = 128\n",
    "    im_bool = (im > th) \n",
    "    mat = np.zeros((im_size, im_size))\n",
    "    for i in range(im_size):\n",
    "        for j in range(im_size):\n",
    "            if im_bool[i,j]:\n",
    "                mat[i,j] = 1\n",
    "            else:\n",
    "                mat[i,j] = 0\n",
    "    return mat\n",
    "\n",
    "alphabet = np.array(['A','B','C','D','E','F','G','H','I','J','K','L','M','N','O','P','Q','R','S','T','U','V','W','X','Y','Z'])\n",
    "\n",
    "Wk = np.zeros((k,im_size,im_size))\n",
    "for i in range(num_images):\n",
    "    Wk[int(labels_training[i]) - 1] += learn(readim(images_training[i]))\n",
    "    \n",
    "# Fonction renvoyant ce que le reseau de neuronnes pense etre la lettre la plus probable\n",
    "def Q(image):\n",
    "    I = image\n",
    "    phik = np.zeros(k)\n",
    "    muk = np.zeros(k)\n",
    "    Qk = np.zeros(k)\n",
    "\n",
    "    for i in range(k):\n",
    "        for j in range(im_size):\n",
    "            for l in range(im_size):\n",
    "                phik[i] += Wk[i][j][l]*I[j][l]\n",
    "                if Wk[i][j][l] > 0:\n",
    "                    muk[i] += Wk[i][j][l]\n",
    "        Qk[i] = phik[i]/muk[i]\n",
    "    return np.argmax(Qk)\n",
    "    \n",
    "end = time.time()\n",
    "print(f\"Temps d'execution du programme: {end - start} s\")"
   ]
  },
  {
   "cell_type": "code",
   "execution_count": 13,
   "metadata": {},
   "outputs": [
    {
     "name": "stdout",
     "output_type": "stream",
     "text": [
      "0.534\n",
      "Temps d'execution du programme: 51.48766565322876 s\n"
     ]
    }
   ],
   "source": [
    "start = time.time()\n",
    "\n",
    "# Test verifiant si le reseau de neuronnes est performant\n",
    "num_images = 1000\n",
    "Qstat = 0\n",
    "for i in range(int(num_images - 1)):\n",
    "    if Q(images_test[i]) == int(labels_test[i] - 1):\n",
    "        Qstat += 1\n",
    "        \n",
    "print(Qstat/num_images)\n",
    "\n",
    "end = time.time()\n",
    "print(f\"Temps d'execution du programme: {end - start} s\")\n",
    "\n",
    "#    num_images    Q          t\n",
    "#    4000          0.5805     212.73033499717712 s\n",
    "#    5000          0.504      253.27191281318665 s\n",
    "#    6000          0.45316    306.93508982658386 s\n",
    "#    7000          0.453      341.8125755786896 s\n",
    "# 7000/6000 0.454 287.9s\n",
    "# 7000/5000 0.5034 241.8s\n",
    "# 7000/400  0.47   19.7 s\n",
    "# 7000/100  0.46   5.1  s\n",
    "#\n",
    "# 8000/8000 0.413 409.5 s\n",
    "\n",
    "# 15000/15000  0.487 776.2s\n",
    "# 15000/2000   0.587 102.0s\n",
    "# 20000/20000  0.491 1023.2s\n",
    "# 20000/2000   0.580 102.7s\n",
    "# 50000/2000   0.570 127.9s\n",
    "# 100000/2000  0.567 101.7s\n",
    "# 100000/4000  0.568 249.9s\n",
    "# 100000/6000  0.466 424.0s\n",
    "# 100000/8000  0.423 550.5s\n",
    "# 100000/10000 0.411 534.3s\n",
    "# 100000/20000 0.490 1083.5s\n",
    "#\n",
    "# limite images_test: 20800"
   ]
  },
  {
   "cell_type": "code",
   "execution_count": null,
   "metadata": {},
   "outputs": [],
   "source": []
  }
 ],
 "metadata": {
  "kernelspec": {
   "display_name": "Python 3",
   "language": "python",
   "name": "python3"
  },
  "language_info": {
   "codemirror_mode": {
    "name": "ipython",
    "version": 3
   },
   "file_extension": ".py",
   "mimetype": "text/x-python",
   "name": "python",
   "nbconvert_exporter": "python",
   "pygments_lexer": "ipython3",
   "version": "3.9.0"
  }
 },
 "nbformat": 4,
 "nbformat_minor": 4
}
