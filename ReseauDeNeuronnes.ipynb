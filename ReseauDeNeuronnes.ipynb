{
 "cells": [
  {
   "cell_type": "code",
   "execution_count": 126,
   "metadata": {},
   "outputs": [],
   "source": [
    "import numpy as np\n",
    "import matplotlib.pyplot as plt\n",
    "from PIL import Image, ImageFilter\n",
    "\n",
    "# CONSTANTES\n",
    "n = 28 # Taille de l'image\n",
    "N = 4 # Nombre d'image\n",
    "k = 26 # Nombre de lettre a reconnaitre\n",
    "\n",
    "# Fonction qui importe une image, la redimenssionne et la binarize\n",
    "def impIm(lettre,num):\n",
    "    im = np.array(Image.open(\"sources/%s%d.png\" % (lettre,num)).resize((n,n)))\n",
    "    th = 128\n",
    "    im_bool = (im < th) \n",
    "\n",
    "    # Passage de matrice RGB a matrice 2D\n",
    "    matx = np.zeros((n,n))\n",
    "    for i in range(n):\n",
    "        for j in range(n):\n",
    "            if im_bool[i,j,0]:\n",
    "                matx[i,j] = 1\n",
    "            else:\n",
    "                matx[i,j] = 0\n",
    "    return matx\n",
    "\n",
    "# Fonction d'apprentissage machine, elle fait ressortir les zone les plus occupe d'une matrice\n",
    "def learn(mat):\n",
    "    for i in range(n):\n",
    "        for j in range(n):\n",
    "            if mat[i,j] == 1:\n",
    "                mat[i,j] += 1\n",
    "            else:\n",
    "                mat[i,j] += -1\n",
    "    return mat"
   ]
  },
  {
   "cell_type": "code",
   "execution_count": 128,
   "metadata": {},
   "outputs": [
    {
     "data": {
      "text/plain": [
       "<matplotlib.image.AxesImage at 0x7f9f2cc3e5b0>"
      ]
     },
     "execution_count": 128,
     "metadata": {},
     "output_type": "execute_result"
    },
    {
     "data": {
      "image/png": "[encoded data removed]",
      "text/plain": [
       "<Figure size 288x288 with 1 Axes>"
      ]
     },
     "metadata": {
      "needs_background": "light"
     },
     "output_type": "display_data"
    }
   ],
   "source": [
    "# On construit la matrice de poid W pour la lettre A\n",
    "W = np.zeros((n,n))\n",
    "for i in range(N):\n",
    "    W += learn(impIm('A',i))\n",
    "    \n",
    "plt.matshow(W)"
   ]
  },
  {
   "cell_type": "code",
   "execution_count": 129,
   "metadata": {},
   "outputs": [
    {
     "name": "stdout",
     "output_type": "stream",
     "text": [
      "Q =  0.9114688128772637\n"
     ]
    },
    {
     "data": {
      "image/png": "[encoded data removed]",
      "text/plain": [
       "<Figure size 288x288 with 1 Axes>"
      ]
     },
     "metadata": {
      "needs_background": "light"
     },
     "output_type": "display_data"
    }
   ],
   "source": [
    "# SCORE CANDIDAT\n",
    "I = impIm('A',0)\n",
    "phi = W*I\n",
    "plt.matshow(phi)\n",
    "\n",
    "# SCORE IDEAL POID-MODEL\n",
    "mu = 0\n",
    "for i in range(n):\n",
    "    for j in range(n):\n",
    "        if W[i,j]> 0:\n",
    "            mu += W[i,j]\n",
    "\n",
    "# QUOTIENT DE RECONNAISSANCE\n",
    "Q = phi/mu\n",
    "print(\"Q = \",abs(Q.sum()))"
   ]
  },
  {
   "cell_type": "code",
   "execution_count": null,
   "metadata": {},
   "outputs": [],
   "source": [
    "alphabet = np.array(['A','B','C','D','E','F','G','H','I','J','K','L','M','N','O','P','Q','R','S','T','U','V','W','X','Y','Z'])\n",
    "\n",
    "I = impIm('test',0)\n",
    "\n",
    "Wk = np.zeros((k,n,n))\n",
    "for i in range(k):\n",
    "    for j in range(N):\n",
    "        Wk[i] += learn()\n",
    "        \n",
    "phik = np.zeros((k,n,n))\n",
    "for i in range(k):\n",
    "    phik[i] = Wk[i]*I\n",
    "\n",
    "muk = np.zeros(k)\n",
    "for i in range(k):\n",
    "    for i in range(k):\n",
    "        for j in range(n):\n",
    "            for l in range(n):\n",
    "                muk[i] += Wk[i,j,l]\n",
    "\n",
    "Qk = np.zeros(k)\n",
    "for i in range(k):\n",
    "    Qk[i] = phik[i]/muk[i]\n",
    "\n",
    "Wk[0] = np.ones(n)\n",
    "print(Wk)"
   ]
  },
  {
   "cell_type": "code",
   "execution_count": 113,
   "metadata": {},
   "outputs": [
    {
     "data": {
      "text/plain": [
       "<matplotlib.image.AxesImage at 0x7f9f2be73070>"
      ]
     },
     "execution_count": 113,
     "metadata": {},
     "output_type": "execute_result"
    },
    {
     "data": {
      "image/png": "[encoded data removed]",
      "text/plain": [
       "<Figure size 288x288 with 1 Axes>"
      ]
     },
     "metadata": {
      "needs_background": "light"
     },
     "output_type": "display_data"
    }
   ],
   "source": [
    "plt.matshow(Wk[2])"
   ]
  },
  {
   "cell_type": "code",
   "execution_count": 330,
   "metadata": {},
   "outputs": [
    {
     "name": "stdout",
     "output_type": "stream",
     "text": [
      "Temps d'execution du programme: 411.3513927459717 s\n"
     ]
    }
   ],
   "source": [
    "import gzip\n",
    "import numpy as np\n",
    "import matplotlib.pyplot as plt\n",
    "import time\n",
    "\n",
    "'''\n",
    "Sources pour importer les donnees:\n",
    "https://stackoverflow.com/questions/40427435/extract-images-from-idx3-ubyte-file-or-gzip-via-python\n",
    "'''\n",
    "start = time.time()\n",
    "\n",
    "im_size = 28\n",
    "num_images = 100000\n",
    "N = num_images\n",
    "k = 26\n",
    "\n",
    "f = gzip.open('samples/emnist-letters-train-images-idx3-ubyte.gz', 'r') # importation de la base de donnees d'images de lettres\n",
    "f.read(16)\n",
    "buf = f.read( im_size * im_size * num_images) # buffer\n",
    "data = np.frombuffer(buf, dtype = np.uint8).astype(np.float32) # Interpret a buffer as a 1-dimensional array.\n",
    "data = data.reshape(num_images, im_size, im_size, 1) # reshape a la bonne taille    \n",
    "\n",
    "def printim(ind):\n",
    "    image = np.asarray(data[ind]).squeeze() # L'image n'est pas dans le bon sens\n",
    "    image = np.fliplr(image) # Donc on la flip \n",
    "    image = np.rot90(image) # Et on la tourne de 90 degres\n",
    "    #plt.imshow(image) # Pour que l'image soit dans le bon sens\n",
    "    #plt.show()\n",
    "    return image\n",
    "\n",
    "def readim(num):\n",
    "    im = printim(num)\n",
    "    th = 128\n",
    "    im_bool = (im > th) \n",
    "    mat = np.zeros((im_size, im_size))\n",
    "    # Passage de matrice RGB a matrice 2D\n",
    "    for i in range(len(im)):\n",
    "        for j in range(len(im)):\n",
    "            if im_bool[i,j]:\n",
    "                mat[i,j] = 1\n",
    "            else:\n",
    "                mat[i,j] = 0\n",
    "    return mat\n",
    "\n",
    "def learn(mat):\n",
    "    for i in range(im_size):\n",
    "        for j in range(im_size):\n",
    "            if mat[i,j] == 1:\n",
    "                mat[i,j] += 1\n",
    "            else:\n",
    "                mat[i,j] += -1\n",
    "    return mat\n",
    "\n",
    "alphabet = np.array(['A','B','C','D','E','F','G','H','I','J','K','L','M','N','O','P','Q','R','S','T','U','V','W','X','Y','Z'])\n",
    "labels = np.zeros(N+1)\n",
    "tabalph = np.zeros(N+1, dtype=str)\n",
    "\n",
    "f = gzip.open('samples/emnist-letters-train-labels-idx1-ubyte.gz','r') # importation de la base de donnees de labels de lettres\n",
    "# Le code ci dessous va lire la base de donnee et renvoyer la lettre afficher a l'ecran\n",
    "f.read(8)\n",
    "for i in range(0,N+1):   \n",
    "    buf = f.read(1)\n",
    "    labels[i] = np.frombuffer(buf, dtype=np.uint8).astype(np.int64)\n",
    "    tabalph[i] = alphabet[int(labels[i]) - 1]\n",
    "\n",
    "Wk = np.zeros((k,im_size,im_size))\n",
    "for i in range(num_images):\n",
    "    Wk[int(labels[i]) - 1] += learn(printim(i))\n",
    "    \n",
    "I = learn(readim(22))\n",
    "phik = np.zeros(k)\n",
    "for i in range(k):\n",
    "    for j in range(im_size):\n",
    "        for l in range(im_size):\n",
    "            phik[i] = Wk[i][j][l]*I[j][l]\n",
    "    \n",
    "muk = np.zeros(k)\n",
    "for i in range(k):\n",
    "    for j in range(im_size):\n",
    "        for l in range(im_size):\n",
    "            if Wk[i][j][l] > 0:\n",
    "                muk[i] += Wk[i][j][l]\n",
    "\n",
    "Qk = np.zeros(k)\n",
    "for i in range(k):\n",
    "    Qk[i] = phik[i]/muk[i]\n",
    "\n",
    "end = time.time()\n",
    "print(f\"Temps d'execution du programme: {end - start} s\") # Approximativement 1 minutes pour lire toutes les donnees avec num_image = 50 000"
   ]
  },
  {
   "cell_type": "code",
   "execution_count": 335,
   "metadata": {},
   "outputs": [],
   "source": [
    "# Fonction renvoyant ce que le reseau de neuronnes pense etre la lettre la plus probable\n",
    "def Q(lettre):\n",
    "    I= learn(readim(lettre))\n",
    "    #print(alphabet[int(labels[lettre])- 1])\n",
    "    #print(int(labels[lettre]) - 1)\n",
    "    phik = np.zeros(k)\n",
    "    for i in range(k):\n",
    "        for j in range(im_size):\n",
    "            for l in range(im_size):\n",
    "                phik[i] += Wk[i][j][l]*I[j][l]\n",
    "\n",
    "    muk = np.zeros(k)\n",
    "    for i in range(k):\n",
    "        for j in range(im_size):\n",
    "            for l in range(im_size):\n",
    "                if Wk[i][j][l] > 0:\n",
    "                    muk[i] += Wk[i][j][l]\n",
    "\n",
    "    Qk = np.zeros(k)\n",
    "    for i in range(k):\n",
    "        Qk[i] = phik[i]/muk[i]\n",
    "    return np.argmax(Qk)"
   ]
  },
  {
   "cell_type": "code",
   "execution_count": 336,
   "metadata": {},
   "outputs": [
    {
     "name": "stdout",
     "output_type": "stream",
     "text": [
      "0.00399\n"
     ]
    }
   ],
   "source": [
    "# Test verifiant si le reseau de neuronnes est performant\n",
    "Qstat = 0\n",
    "for i in range(1000):\n",
    "    if Q(i) == int(labels[i] - 1):\n",
    "        Qstat += 1\n",
    "        \n",
    "print(Qstat/num_images)\n",
    "# spoiler: il ne l'est pas du tout"
   ]
  },
  {
   "cell_type": "code",
   "execution_count": null,
   "metadata": {},
   "outputs": [],
   "source": []
  }
 ],
 "metadata": {
  "kernelspec": {
   "display_name": "Python 3",
   "language": "python",
   "name": "python3"
  },
  "language_info": {
   "codemirror_mode": {
    "name": "ipython",
    "version": 3
   },
   "file_extension": ".py",
   "mimetype": "text/x-python",
   "name": "python",
   "nbconvert_exporter": "python",
   "pygments_lexer": "ipython3",
   "version": "3.8.5"
  }
 },
 "nbformat": 4,
 "nbformat_minor": 4
}
