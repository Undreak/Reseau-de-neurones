{
 "cells": [
  {
   "cell_type": "code",
   "execution_count": 78,
   "metadata": {},
   "outputs": [
    {
     "name": "stdout",
     "output_type": "stream",
     "text": [
      "Temps d'execution du programme: 7.311124086380005 s\n"
     ]
    }
   ],
   "source": [
    "import gzip\n",
    "import numpy as np\n",
    "import matplotlib.pyplot as plt\n",
    "from emnist import  list_datasets\n",
    "from emnist import extract_training_samples\n",
    "from emnist import extract_test_samples\n",
    "import time\n",
    "\n",
    "start = time.time()\n",
    "\n",
    "im_size = 28\n",
    "num_images = 6000\n",
    "k = 26\n",
    "\n",
    "images_training, labels_training = extract_training_samples('letters')\n",
    "images_test, labels_test = extract_test_samples('letters')\n",
    "\n",
    "def learn(mat):\n",
    "    for i in range(im_size):\n",
    "        for j in range(im_size):\n",
    "            if mat[i,j] == 1:\n",
    "                mat[i,j] += 1\n",
    "            else:\n",
    "                mat[i,j] += -1\n",
    "    return mat\n",
    "\n",
    "def readim(im):\n",
    "    th = 128\n",
    "    im_bool = (im > th) \n",
    "    mat = np.zeros((im_size, im_size))\n",
    "    for i in range(im_size):\n",
    "        for j in range(im_size):\n",
    "            if im_bool[i,j]:\n",
    "                mat[i,j] = 1\n",
    "            else:\n",
    "                mat[i,j] = 0\n",
    "    return mat\n",
    "\n",
    "alphabet = np.array(['A','B','C','D','E','F','G','H','I','J','K','L','M','N','O','P','Q','R','S','T','U','V','W','X','Y','Z'])\n",
    "\n",
    "Wk = np.zeros((k,im_size,im_size))\n",
    "for i in range(num_images):\n",
    "    Wk[int(labels_training[i]) - 1] += learn(readim(images_training[i]))\n",
    "    \n",
    "# Fonction renvoyant ce que le reseau de neuronnes pense etre la lettre la plus probable\n",
    "def Q(image):\n",
    "    I = image\n",
    "    phik = np.zeros(k)\n",
    "    muk = np.zeros(k)\n",
    "    Qk = np.zeros(k)\n",
    "\n",
    "    for i in range(k):\n",
    "        for j in range(im_size):\n",
    "            for l in range(im_size):\n",
    "                phik[i] += Wk[i][j][l]*I[j][l]\n",
    "                if Wk[i][j][l] > 0:\n",
    "                    muk[i] += Wk[i][j][l]\n",
    "        Qk[i] = phik[i]/muk[i]\n",
    "    return np.argmax(Qk)\n",
    "    \n",
    "end = time.time()\n",
    "print(f\"Temps d'execution du programme: {end - start} s\")"
   ]
  },
  {
   "cell_type": "code",
   "execution_count": 79,
   "metadata": {},
   "outputs": [
    {
     "name": "stdout",
     "output_type": "stream",
     "text": [
      "0.45316666666666666\n",
      "Temps d'execution du programme: 306.93508982658386 s\n"
     ]
    }
   ],
   "source": [
    "start = time.time()\n",
    "\n",
    "# Test verifiant si le reseau de neuronnes est performant\n",
    "Qstat = 0\n",
    "for i in range(int(num_images - 1)):\n",
    "    if Q(images_test[i]) == int(labels_test[i] - 1):\n",
    "        Qstat += 1\n",
    "        \n",
    "print(Qstat/num_images)\n",
    "\n",
    "end = time.time()\n",
    "print(f\"Temps d'execution du programme: {end - start} s\")\n",
    "\n",
    "#    num_images    Q          t\n",
    "#    4000          0.5805     212.73033499717712 s\n",
    "#    5000          0.504      253.27191281318665 s\n",
    "#    6000          0.45316    306.93508982658386 s\n"
   ]
  },
  {
   "cell_type": "code",
   "execution_count": 58,
   "metadata": {},
   "outputs": [
    {
     "data": {
      "text/plain": [
       "(20800, 28, 28)"
      ]
     },
     "execution_count": 58,
     "metadata": {},
     "output_type": "execute_result"
    }
   ],
   "source": [
    "im_bool = (images_test > 128)\n",
    "im_bool.shape"
   ]
  },
  {
   "cell_type": "code",
   "execution_count": null,
   "metadata": {},
   "outputs": [],
   "source": []
  }
 ],
 "metadata": {
  "kernelspec": {
   "display_name": "Python 3",
   "language": "python",
   "name": "python3"
  },
  "language_info": {
   "codemirror_mode": {
    "name": "ipython",
    "version": 3
   },
   "file_extension": ".py",
   "mimetype": "text/x-python",
   "name": "python",
   "nbconvert_exporter": "python",
   "pygments_lexer": "ipython3",
   "version": "3.9.0"
  }
 },
 "nbformat": 4,
 "nbformat_minor": 4
}
