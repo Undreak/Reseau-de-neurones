{
 "cells": [
  {
   "cell_type": "code",
   "execution_count": 4,
   "metadata": {},
   "outputs": [],
   "source": [
    "import numpy as np\n",
    "import matplotlib.pyplot as plt\n",
    "from PIL import Image, ImageFilter\n",
    "\n",
    "# CONSTANTES\n",
    "n = 28 # Taille de l'image\n",
    "N = 4 # Nombre d'image\n",
    "k = 26 # Nombre de lettre a reconnaitre\n",
    "\n",
    "# Fonction qui importe une image, la redimenssionne et la binarize\n",
    "def impIm(lettre,num):\n",
    "    im = np.array(Image.open(\"sources/%s%d.png\" % (lettre,num)).resize((n,n)))\n",
    "    th = 128\n",
    "    im_bool = (im < th) \n",
    "\n",
    "    # Passage de matrice RGB a matrice 2D\n",
    "    matx = np.zeros((n,n))\n",
    "    for i in range(n):\n",
    "        for j in range(n):\n",
    "            if im_bool[i,j,0]:\n",
    "                matx[i,j] = 1\n",
    "            else:\n",
    "                matx[i,j] = 0\n",
    "    return matx\n",
    "\n",
    "# Fonction d'apprentissage machine, elle fait ressortir les zone les plus occupe d'une matrice\n",
    "def learn(mat):\n",
    "    for i in range(n):\n",
    "        for j in range(n):\n",
    "            if mat[i,j] == 1:\n",
    "                mat[i,j] += 1\n",
    "            else:\n",
    "                mat[i,j] += -1\n",
    "    return mat"
   ]
  },
  {
   "cell_type": "code",
   "execution_count": 5,
   "metadata": {},
   "outputs": [
    {
     "data": {
      "text/plain": [
       "<matplotlib.image.AxesImage at 0x7f5f3128b910>"
      ]
     },
     "execution_count": 5,
     "metadata": {},
     "output_type": "execute_result"
    },
    {
     "data": {
      "image/png": "[encoded data removed]",
      "text/plain": [
       "<Figure size 288x288 with 1 Axes>"
      ]
     },
     "metadata": {
      "needs_background": "light"
     },
     "output_type": "display_data"
    }
   ],
   "source": [
    "# On construit la matrice de poid W pour la lettre A\n",
    "W = np.zeros((n,n))\n",
    "for i in range(N):\n",
    "    W += learn(impIm('A',i))\n",
    "    \n",
    "plt.matshow(W)"
   ]
  },
  {
   "cell_type": "code",
   "execution_count": 6,
   "metadata": {},
   "outputs": [
    {
     "name": "stdout",
     "output_type": "stream",
     "text": [
      "Q =  0.9114688128772637\n"
     ]
    },
    {
     "data": {
      "image/png": "[encoded data removed]",
      "text/plain": [
       "<Figure size 288x288 with 1 Axes>"
      ]
     },
     "metadata": {
      "needs_background": "light"
     },
     "output_type": "display_data"
    }
   ],
   "source": [
    "# SCORE CANDIDAT\n",
    "I = impIm('A',0)\n",
    "phi = W*I\n",
    "plt.matshow(phi)\n",
    "\n",
    "# SCORE IDEAL POID-MODEL\n",
    "mu = 0\n",
    "for i in range(n):\n",
    "    for j in range(n):\n",
    "        if W[i,j]> 0:\n",
    "            mu += W[i,j]\n",
    "\n",
    "# QUOTIENT DE RECONNAISSANCE\n",
    "Q = phi/mu\n",
    "print(\"Q = \",abs(Q.sum()))"
   ]
  },
  {
   "cell_type": "code",
   "execution_count": 7,
   "metadata": {},
   "outputs": [
    {
     "ename": "FileNotFoundError",
     "evalue": "[Errno 2] No such file or directory: 'sources/test0.png'",
     "output_type": "error",
     "traceback": [
      "\u001b[0;31m---------------------------------------------------------------------------\u001b[0m",
      "\u001b[0;31mFileNotFoundError\u001b[0m                         Traceback (most recent call last)",
      "\u001b[0;32m<ipython-input-7-f3ada204e7e3>\u001b[0m in \u001b[0;36m<module>\u001b[0;34m\u001b[0m\n\u001b[1;32m      1\u001b[0m \u001b[0malphabet\u001b[0m \u001b[0;34m=\u001b[0m \u001b[0mnp\u001b[0m\u001b[0;34m.\u001b[0m\u001b[0marray\u001b[0m\u001b[0;34m(\u001b[0m\u001b[0;34m[\u001b[0m\u001b[0;34m'A'\u001b[0m\u001b[0;34m,\u001b[0m\u001b[0;34m'B'\u001b[0m\u001b[0;34m,\u001b[0m\u001b[0;34m'C'\u001b[0m\u001b[0;34m,\u001b[0m\u001b[0;34m'D'\u001b[0m\u001b[0;34m,\u001b[0m\u001b[0;34m'E'\u001b[0m\u001b[0;34m,\u001b[0m\u001b[0;34m'F'\u001b[0m\u001b[0;34m,\u001b[0m\u001b[0;34m'G'\u001b[0m\u001b[0;34m,\u001b[0m\u001b[0;34m'H'\u001b[0m\u001b[0;34m,\u001b[0m\u001b[0;34m'I'\u001b[0m\u001b[0;34m,\u001b[0m\u001b[0;34m'J'\u001b[0m\u001b[0;34m,\u001b[0m\u001b[0;34m'K'\u001b[0m\u001b[0;34m,\u001b[0m\u001b[0;34m'L'\u001b[0m\u001b[0;34m,\u001b[0m\u001b[0;34m'M'\u001b[0m\u001b[0;34m,\u001b[0m\u001b[0;34m'N'\u001b[0m\u001b[0;34m,\u001b[0m\u001b[0;34m'O'\u001b[0m\u001b[0;34m,\u001b[0m\u001b[0;34m'P'\u001b[0m\u001b[0;34m,\u001b[0m\u001b[0;34m'Q'\u001b[0m\u001b[0;34m,\u001b[0m\u001b[0;34m'R'\u001b[0m\u001b[0;34m,\u001b[0m\u001b[0;34m'S'\u001b[0m\u001b[0;34m,\u001b[0m\u001b[0;34m'T'\u001b[0m\u001b[0;34m,\u001b[0m\u001b[0;34m'U'\u001b[0m\u001b[0;34m,\u001b[0m\u001b[0;34m'V'\u001b[0m\u001b[0;34m,\u001b[0m\u001b[0;34m'W'\u001b[0m\u001b[0;34m,\u001b[0m\u001b[0;34m'X'\u001b[0m\u001b[0;34m,\u001b[0m\u001b[0;34m'Y'\u001b[0m\u001b[0;34m,\u001b[0m\u001b[0;34m'Z'\u001b[0m\u001b[0;34m]\u001b[0m\u001b[0;34m)\u001b[0m\u001b[0;34m\u001b[0m\u001b[0;34m\u001b[0m\u001b[0m\n\u001b[1;32m      2\u001b[0m \u001b[0;34m\u001b[0m\u001b[0m\n\u001b[0;32m----> 3\u001b[0;31m \u001b[0mI\u001b[0m \u001b[0;34m=\u001b[0m \u001b[0mimpIm\u001b[0m\u001b[0;34m(\u001b[0m\u001b[0;34m'test'\u001b[0m\u001b[0;34m,\u001b[0m\u001b[0;36m0\u001b[0m\u001b[0;34m)\u001b[0m\u001b[0;34m\u001b[0m\u001b[0;34m\u001b[0m\u001b[0m\n\u001b[0m\u001b[1;32m      4\u001b[0m \u001b[0;34m\u001b[0m\u001b[0m\n\u001b[1;32m      5\u001b[0m \u001b[0mWk\u001b[0m \u001b[0;34m=\u001b[0m \u001b[0mnp\u001b[0m\u001b[0;34m.\u001b[0m\u001b[0mzeros\u001b[0m\u001b[0;34m(\u001b[0m\u001b[0;34m(\u001b[0m\u001b[0mk\u001b[0m\u001b[0;34m,\u001b[0m\u001b[0mn\u001b[0m\u001b[0;34m,\u001b[0m\u001b[0mn\u001b[0m\u001b[0;34m)\u001b[0m\u001b[0;34m)\u001b[0m\u001b[0;34m\u001b[0m\u001b[0;34m\u001b[0m\u001b[0m\n",
      "\u001b[0;32m<ipython-input-4-f55215a191a5>\u001b[0m in \u001b[0;36mimpIm\u001b[0;34m(lettre, num)\u001b[0m\n\u001b[1;32m     10\u001b[0m \u001b[0;31m# Fonction qui importe une image, la redimenssionne et la binarize\u001b[0m\u001b[0;34m\u001b[0m\u001b[0;34m\u001b[0m\u001b[0;34m\u001b[0m\u001b[0m\n\u001b[1;32m     11\u001b[0m \u001b[0;32mdef\u001b[0m \u001b[0mimpIm\u001b[0m\u001b[0;34m(\u001b[0m\u001b[0mlettre\u001b[0m\u001b[0;34m,\u001b[0m\u001b[0mnum\u001b[0m\u001b[0;34m)\u001b[0m\u001b[0;34m:\u001b[0m\u001b[0;34m\u001b[0m\u001b[0;34m\u001b[0m\u001b[0m\n\u001b[0;32m---> 12\u001b[0;31m     \u001b[0mim\u001b[0m \u001b[0;34m=\u001b[0m \u001b[0mnp\u001b[0m\u001b[0;34m.\u001b[0m\u001b[0marray\u001b[0m\u001b[0;34m(\u001b[0m\u001b[0mImage\u001b[0m\u001b[0;34m.\u001b[0m\u001b[0mopen\u001b[0m\u001b[0;34m(\u001b[0m\u001b[0;34m\"sources/%s%d.png\"\u001b[0m \u001b[0;34m%\u001b[0m \u001b[0;34m(\u001b[0m\u001b[0mlettre\u001b[0m\u001b[0;34m,\u001b[0m\u001b[0mnum\u001b[0m\u001b[0;34m)\u001b[0m\u001b[0;34m)\u001b[0m\u001b[0;34m.\u001b[0m\u001b[0mresize\u001b[0m\u001b[0;34m(\u001b[0m\u001b[0;34m(\u001b[0m\u001b[0mn\u001b[0m\u001b[0;34m,\u001b[0m\u001b[0mn\u001b[0m\u001b[0;34m)\u001b[0m\u001b[0;34m)\u001b[0m\u001b[0;34m)\u001b[0m\u001b[0;34m\u001b[0m\u001b[0;34m\u001b[0m\u001b[0m\n\u001b[0m\u001b[1;32m     13\u001b[0m     \u001b[0mth\u001b[0m \u001b[0;34m=\u001b[0m \u001b[0;36m128\u001b[0m\u001b[0;34m\u001b[0m\u001b[0;34m\u001b[0m\u001b[0m\n\u001b[1;32m     14\u001b[0m     \u001b[0mim_bool\u001b[0m \u001b[0;34m=\u001b[0m \u001b[0;34m(\u001b[0m\u001b[0mim\u001b[0m \u001b[0;34m<\u001b[0m \u001b[0mth\u001b[0m\u001b[0;34m)\u001b[0m\u001b[0;34m\u001b[0m\u001b[0;34m\u001b[0m\u001b[0m\n",
      "\u001b[0;32m/usr/lib64/python3.9/site-packages/PIL/Image.py\u001b[0m in \u001b[0;36mopen\u001b[0;34m(fp, mode)\u001b[0m\n\u001b[1;32m   2876\u001b[0m \u001b[0;34m\u001b[0m\u001b[0m\n\u001b[1;32m   2877\u001b[0m     \u001b[0;32mif\u001b[0m \u001b[0mfilename\u001b[0m\u001b[0;34m:\u001b[0m\u001b[0;34m\u001b[0m\u001b[0;34m\u001b[0m\u001b[0m\n\u001b[0;32m-> 2878\u001b[0;31m         \u001b[0mfp\u001b[0m \u001b[0;34m=\u001b[0m \u001b[0mbuiltins\u001b[0m\u001b[0;34m.\u001b[0m\u001b[0mopen\u001b[0m\u001b[0;34m(\u001b[0m\u001b[0mfilename\u001b[0m\u001b[0;34m,\u001b[0m \u001b[0;34m\"rb\"\u001b[0m\u001b[0;34m)\u001b[0m\u001b[0;34m\u001b[0m\u001b[0;34m\u001b[0m\u001b[0m\n\u001b[0m\u001b[1;32m   2879\u001b[0m         \u001b[0mexclusive_fp\u001b[0m \u001b[0;34m=\u001b[0m \u001b[0;32mTrue\u001b[0m\u001b[0;34m\u001b[0m\u001b[0;34m\u001b[0m\u001b[0m\n\u001b[1;32m   2880\u001b[0m \u001b[0;34m\u001b[0m\u001b[0m\n",
      "\u001b[0;31mFileNotFoundError\u001b[0m: [Errno 2] No such file or directory: 'sources/test0.png'"
     ]
    }
   ],
   "source": [
    "alphabet = np.array(['A','B','C','D','E','F','G','H','I','J','K','L','M','N','O','P','Q','R','S','T','U','V','W','X','Y','Z'])\n",
    "\n",
    "I = impIm('test',0)\n",
    "\n",
    "Wk = np.zeros((k,n,n))\n",
    "for i in range(k):\n",
    "    for j in range(N):\n",
    "        Wk[i] += learn()\n",
    "        \n",
    "phik = np.zeros((k,n,n))\n",
    "for i in range(k):\n",
    "    phik[i] = Wk[i]*I\n",
    "\n",
    "muk = np.zeros(k)\n",
    "for i in range(k):\n",
    "    for i in range(k):\n",
    "        for j in range(n):\n",
    "            for l in range(n):\n",
    "                muk[i] += Wk[i,j,l]\n",
    "\n",
    "Qk = np.zeros(k)\n",
    "for i in range(k):\n",
    "    Qk[i] = phik[i]/muk[i]\n",
    "\n",
    "Wk[0] = np.ones(n)\n",
    "print(Wk)"
   ]
  },
  {
   "cell_type": "code",
   "execution_count": 113,
   "metadata": {},
   "outputs": [
    {
     "data": {
      "text/plain": [
       "<matplotlib.image.AxesImage at 0x7f9f2be73070>"
      ]
     },
     "execution_count": 113,
     "metadata": {},
     "output_type": "execute_result"
    },
    {
     "data": {
      "image/png": "[encoded data removed]",
      "text/plain": [
       "<Figure size 288x288 with 1 Axes>"
      ]
     },
     "metadata": {
      "needs_background": "light"
     },
     "output_type": "display_data"
    }
   ],
   "source": [
    "plt.matshow(Wk[2])"
   ]
  },
  {
   "cell_type": "code",
   "execution_count": 167,
   "metadata": {},
   "outputs": [
    {
     "name": "stdout",
     "output_type": "stream",
     "text": [
      "Temps d'execution du programme: 5.887452125549316 s\n"
     ]
    }
   ],
   "source": [
    "import gzip\n",
    "import numpy as np\n",
    "import matplotlib.pyplot as plt\n",
    "import time\n",
    "\n",
    "'''\n",
    "Sources pour importer les donnees:\n",
    "https://stackoverflow.com/questions/40427435/extract-images-from-idx3-ubyte-file-or-gzip-via-python\n",
    "'''\n",
    "start = time.time()\n",
    "\n",
    "im_size = 28\n",
    "num_images = 1000\n",
    "N = num_images\n",
    "k = 26\n",
    "\n",
    "f = gzip.open('samples/emnist-letters-train-images-idx3-ubyte.gz', 'r') # importation de la base de donnees d'images de lettres\n",
    "f.read(16)\n",
    "buf = f.read( im_size * im_size * num_images) # buffer\n",
    "data = np.frombuffer(buf, dtype = np.uint8).astype(np.float32) # Interpret a buffer as a 1-dimensional array.\n",
    "data = data.reshape(num_images, im_size, im_size, 1) # reshape a la bonne taille    \n",
    "\n",
    "def printim(ind):\n",
    "    image = np.asarray(data[ind]).squeeze() # L'image n'est pas dans le bon sens\n",
    "    image = np.fliplr(image) # Donc on la flip \n",
    "    image = np.rot90(image) # Et on la tourne de 90 degres\n",
    "    #plt.imshow(image) # Pour que l'image soit dans le bon sens\n",
    "    #plt.show()\n",
    "    return image\n",
    "\n",
    "def readim(num):\n",
    "    im = printim(num)\n",
    "    th = 128\n",
    "    im_bool = (im > th) \n",
    "    mat = np.zeros((im_size, im_size))\n",
    "    # Passage de matrice RGB a matrice 2D\n",
    "    for i in range(len(im)):\n",
    "        for j in range(len(im)):\n",
    "            if im_bool[i,j]:\n",
    "                mat[i,j] = 1\n",
    "            else:\n",
    "                mat[i,j] = 0\n",
    "    return mat\n",
    "\n",
    "def learn(mat):\n",
    "    for i in range(im_size):\n",
    "        for j in range(im_size):\n",
    "            if mat[i,j] == 1:\n",
    "                mat[i,j] += 1\n",
    "            else:\n",
    "                mat[i,j] += -1\n",
    "    return mat\n",
    "\n",
    "alphabet = np.array(['A','B','C','D','E','F','G','H','I','J','K','L','M','N','O','P','Q','R','S','T','U','V','W','X','Y','Z'])\n",
    "labels = np.zeros(N+1)\n",
    "tabalph = np.zeros(N+1, dtype=str)\n",
    "\n",
    "f = gzip.open('samples/emnist-letters-train-labels-idx1-ubyte.gz','r') # importation de la base de donnees de labels de lettres\n",
    "# Le code ci dessous va lire la base de donnee et renvoyer la lettre afficher a l'ecran\n",
    "f.read(8)\n",
    "for i in range(0,N+1):   \n",
    "    buf = f.read(1)\n",
    "    labels[i] = np.frombuffer(buf, dtype=np.uint8).astype(np.int64)\n",
    "    tabalph[i] = alphabet[int(labels[i]) - 1]\n",
    "\n",
    "Wk = np.zeros((k,im_size,im_size))\n",
    "for i in range(num_images):\n",
    "    Wk[int(labels[i]) - 1] += learn(printim(i))\n",
    "    \n",
    "# I = learn(readim(22)) <== NE PAS LEARN LA MATRICE I\n",
    "# Cela donne une matrice non binaire avec des -1 a la place des 0\n",
    "# Ce qui provoque une grosse erreur lors du calcul de phik\n",
    "\n",
    "end = time.time()\n",
    "print(f\"Temps d'execution du programme: {end - start} s\") # Approximativement 1 minutes pour lire toutes les donnees avec num_image = 50 000"
   ]
  },
  {
   "cell_type": "code",
   "execution_count": 168,
   "metadata": {},
   "outputs": [],
   "source": [
    "I = readim(500)\n",
    "phik = np.zeros(k)\n",
    "for i in range(k):\n",
    "    for j in range(im_size):\n",
    "        for l in range(im_size):\n",
    "            phik[i] += Wk[i][j][l]*I[j][l]\n",
    "    \n",
    "muk = np.zeros(k)\n",
    "for i in range(k):\n",
    "    for j in range(im_size):\n",
    "        for l in range(im_size):\n",
    "            if Wk[i][j][l] > 0:\n",
    "                muk[i] += Wk[i][j][l]\n",
    "\n",
    "Qk = np.zeros(k)\n",
    "for i in range(k):\n",
    "    Qk[i] = phik[i]/muk[i]\n"
   ]
  },
  {
   "cell_type": "code",
   "execution_count": 176,
   "metadata": {},
   "outputs": [
    {
     "name": "stdout",
     "output_type": "stream",
     "text": [
      "0.305\n"
     ]
    }
   ],
   "source": [
    "# Fonction renvoyant ce que le reseau de neuronnes pense etre la lettre la plus probable\n",
    "def Q(lettre):\n",
    "    I= readim(lettre)    #print(alphabet[int(labels[lettre])- 1])\n",
    "    #print(int(labels[lettre]) - 1)\n",
    "    phik = np.zeros(k)\n",
    "    for i in range(k):\n",
    "        for j in range(im_size):\n",
    "            for l in range(im_size):\n",
    "                phik[i] += Wk[i][j][l]*I[j][l]\n",
    "\n",
    "    muk = np.zeros(k)\n",
    "    for i in range(k):\n",
    "        for j in range(im_size):\n",
    "            for l in range(im_size):\n",
    "                if Wk[i][j][l] > 0:\n",
    "                    muk[i] += Wk[i][j][l]\n",
    "\n",
    "    Qk = np.zeros(k)\n",
    "    for i in range(k):\n",
    "        Qk[i] = phik[i]/muk[i]\n",
    "    return np.argmax(Qk)\n",
    "\n",
    "# Test verifiant si le reseau de neuronnes est performant\n",
    "Qstat = 0\n",
    "for i in range(700):\n",
    "    if Q(i) == int(labels[i] - 1):\n",
    "        Qstat += 1\n",
    "        \n",
    "print(Qstat/num_images)\n",
    "# spoiler: il ne l'est pas du tout\n",
    "# UPDATE 1: En reduisant le nombre d'image Q augmente significativement "
   ]
  },
  {
   "cell_type": "code",
   "execution_count": null,
   "metadata": {},
   "outputs": [],
   "source": []
  },
  {
   "cell_type": "code",
   "execution_count": null,
   "metadata": {},
   "outputs": [],
   "source": []
  }
 ],
 "metadata": {
  "kernelspec": {
   "display_name": "Python 3",
   "language": "python",
   "name": "python3"
  },
  "language_info": {
   "codemirror_mode": {
    "name": "ipython",
    "version": 3
   },
   "file_extension": ".py",
   "mimetype": "text/x-python",
   "name": "python",
   "nbconvert_exporter": "python",
   "pygments_lexer": "ipython3",
   "version": "3.9.0"
  }
 },
 "nbformat": 4,
 "nbformat_minor": 4
}
